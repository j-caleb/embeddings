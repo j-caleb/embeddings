{
 "cells": [
  {
   "cell_type": "code",
   "execution_count": 1,
   "metadata": {},
   "outputs": [],
   "source": [
    "import numpy as np\n",
    "from collections import defaultdict\n",
    "import math\n",
    "import random\n",
    "import pickle\n",
    "import argparse\n",
    "\n",
    "import sys\n",
    "sys.path.append('../')\n",
    "from utils import commons\n",
    "from utils import store\n",
    "from utils import vector_utils\n",
    "\n",
    "print_every = 100000\n",
    "print_status = True"
   ]
  },
  {
   "cell_type": "code",
   "execution_count": 2,
   "metadata": {},
   "outputs": [],
   "source": [
    "def compute_idf(data, min_count):\n",
    "    \"\"\"\n",
    "    IDF is used to weight the term vectors.\n",
    "    \"\"\"\n",
    "    if print_status:\n",
    "        print('Computing IDF')\n",
    "    counts = defaultdict(float)\n",
    "    for line in data:\n",
    "        line = set(line.split())\n",
    "        for feature in line:\n",
    "            counts[feature]+=1\n",
    "    delete = [feature for feature in counts if counts[feature] < min_count]\n",
    "    for feature in delete:\n",
    "        del counts[feature]\n",
    "    for feature in counts:\n",
    "        counts[feature]=math.sqrt(len(data)/counts[feature])\n",
    "    return counts"
   ]
  },
  {
   "cell_type": "code",
   "execution_count": 3,
   "metadata": {},
   "outputs": [],
   "source": [
    "def initialize_vectors(features, idf, dim, seeds):\n",
    "    \"\"\"\n",
    "    This creates the initial random projection for each feature. You create initial\n",
    "    vector with dimensionality dim. Dim should be in the range 500-1000. You then\n",
    "    select n (n is determined by seeds) elements and set the value to 1 or -1\n",
    "    randomly. This performs the random projection.\n",
    "    \"\"\"\n",
    "    vectors = {}\n",
    "\n",
    "    for i in range(len(features)):\n",
    "        if print_status and i % print_every == 0:\n",
    "            print('Initializing ' + str(i))\n",
    "        feature = features[i]\n",
    "        vector=np.zeros(dim)\n",
    "        sample=random.sample(range(0,dim),seeds) # Grab the n random elements for random projection\n",
    "        for index in sample:\n",
    "            vector[index]=random.choice([-1.0,1.0]) # Set each element to +1 or -1 for random projection\n",
    "        vector=vector * idf[feature] # Weight based on IDF\n",
    "        vectors[feature]=vector\n",
    "    return vectors"
   ]
  },
  {
   "cell_type": "code",
   "execution_count": 4,
   "metadata": {},
   "outputs": [],
   "source": [
    "def train_vectors(data, vectors):\n",
    "    \"\"\"\n",
    "    For each feature in each line, add the feature to all other features. Conceptually,\n",
    "    each co-occurance of two features moves the two features closer together.\n",
    "    \"\"\"\n",
    "    trained_vectors=vectors.copy()\n",
    "    for i in range(len(data)):\n",
    "        if print_status and i % print_every == 0:\n",
    "            print('Processed ' + str(i))\n",
    "        line = data[i].split()\n",
    "        line=[feature for feature in line if feature in vectors]\n",
    "        for feature_1 in line:\n",
    "            for feature_2 in line:\n",
    "                if feature_1 != feature_2:\n",
    "                    trained_vectors[feature_2]+=vectors[feature_1]\n",
    "        for feature in trained_vectors:\n",
    "            trained_vectors[feature] = vector_utils.normalize_vector(trained_vectors[feature])\n",
    "        return trained_vectors"
   ]
  },
  {
   "cell_type": "code",
   "execution_count": null,
   "metadata": {},
   "outputs": [],
   "source": []
  }
 ],
 "metadata": {
  "kernelspec": {
   "display_name": "Python 3",
   "language": "python",
   "name": "python3"
  },
  "language_info": {
   "codemirror_mode": {
    "name": "ipython",
    "version": 3
   },
   "file_extension": ".py",
   "mimetype": "text/x-python",
   "name": "python",
   "nbconvert_exporter": "python",
   "pygments_lexer": "ipython3",
   "version": "3.7.3"
  }
 },
 "nbformat": 4,
 "nbformat_minor": 2
}
